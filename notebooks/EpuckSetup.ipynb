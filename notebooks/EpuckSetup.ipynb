{
 "cells": [
  {
   "cell_type": "code",
   "execution_count": 7,
   "metadata": {},
   "outputs": [
    {
     "name": "stdout",
     "output_type": "stream",
     "text": [
      "-------------------------------------------------\n"
     ]
    }
   ],
   "source": [
    "from mynotebooks import *\n",
    "%matplotlib inline  \n",
    "from ExpRobotSetup import ExpSetupEpuck\n",
    "import os\n",
    "os.mkdir('imgs')\n",
    "\n",
    "exp = ExpSetupEpuck(n=2, debug = True)"
   ]
  },
  {
   "cell_type": "code",
   "execution_count": 12,
   "metadata": {},
   "outputs": [
    {
     "data": {
      "image/png": "[encoded data removed]",
      "text/plain": [
       "<matplotlib.figure.Figure at 0x7fbb48898750>"
      ]
     },
     "metadata": {},
     "output_type": "display_data"
    }
   ],
   "source": [
    "#exp.resetPosition()\n",
    "for i in range(2): Box2DWorld.step()\n",
    "\n",
    "fig, ax = VectorFigUtils.makeFigure(axes=[-5,5,-1.5,5.5])\n",
    "Box2DWorld.plotWorld(ax)\n",
    "VectorFigUtils.decorate(\"x\",\"y\",mainfont=16)\n",
    "ax.set_aspect('equal')\n",
    "plt.show()\n",
    "fig.savefig('imgs/setup.png', dpi=300, format='png')"
   ]
  },
  {
   "cell_type": "code",
   "execution_count": 10,
   "metadata": {},
   "outputs": [
    {
     "data": {
      "image/png": "[encoded data removed]",
      "text/plain": [
       "<matplotlib.figure.Figure at 0x7fbb48903090>"
      ]
     },
     "metadata": {},
     "output_type": "display_data"
    }
   ],
   "source": [
    "exp.setMotors(epuck=0, motors=[-5,5])\n",
    "for i in range(1000): \n",
    "    Box2DWorld.step()\n",
    "    exp.update()\n",
    "    \n",
    "fig, ax = VectorFigUtils.makeFigure(axes=[-5,5,-1.5,5.5])\n",
    "Box2DWorld.plotWorld(ax)\n",
    "plt.show()"
   ]
  },
  {
   "cell_type": "code",
   "execution_count": 11,
   "metadata": {
    "collapsed": true
   },
   "outputs": [],
   "source": [
    "class ExpSetupEpuckSocial:\n",
    "\n",
    "    def __init__(self, n = 2, debug = False):\n",
    "        global bDebug\n",
    "        bDebug = debug        \n",
    "        print \"-------------------------------------------------\"\n",
    "        \n",
    "        self.epucks = [Epuck(position=[0,0]) for _ in range(n)] \n",
    "        addWalls((0,0))\n",
    "\n",
    "    def update(self):\n",
    "        for e in self.epucks:\n",
    "            e.update() \n",
    "\n",
    "    def setMotors(self,epuck=0, motors=[10,10]):\n",
    "        self.epucks[epuck].motors = motors"
   ]
  },
  {
   "cell_type": "code",
   "execution_count": null,
   "metadata": {
    "collapsed": true
   },
   "outputs": [],
   "source": []
  }
 ],
 "metadata": {
  "kernelspec": {
   "display_name": "Python 2",
   "language": "python",
   "name": "python2"
  },
  "language_info": {
   "codemirror_mode": {
    "name": "ipython",
    "version": 2
   },
   "file_extension": ".py",
   "mimetype": "text/x-python",
   "name": "python",
   "nbconvert_exporter": "python",
   "pygments_lexer": "ipython2",
   "version": "2.7.14"
  }
 },
 "nbformat": 4,
 "nbformat_minor": 1
}
